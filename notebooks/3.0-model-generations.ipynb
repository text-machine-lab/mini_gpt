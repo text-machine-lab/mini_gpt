{
 "cells": [
  {
   "cell_type": "code",
   "execution_count": null,
   "metadata": {},
   "outputs": [],
   "source": [
    "import transformers"
   ]
  },
  {
   "cell_type": "code",
   "execution_count": 13,
   "metadata": {},
   "outputs": [
    {
     "name": "stderr",
     "output_type": "stream",
     "text": [
      "Repo card metadata block was not found. Setting CardData to empty.\n"
     ]
    },
    {
     "name": "stdout",
     "output_type": "stream",
     "text": [
      "[15795   860  5390 21575 11964 11284  6265 16850  4426 21962]\n"
     ]
    }
   ],
   "source": [
    "from datasets import load_dataset\n",
    "import numpy as np\n",
    "seed = 42\n",
    "np.random.seed(seed)\n",
    "\n",
    "\n",
    "dataset = load_dataset(\"roneneldan/TinyStories\")\n",
    "indices = np.random.randint(0, len(dataset[\"validation\"]), size=10)\n",
    "print(indices)"
   ]
  },
  {
   "cell_type": "code",
   "execution_count": 21,
   "metadata": {},
   "outputs": [
    {
     "name": "stdout",
     "output_type": "stream",
     "text": [
      "15795\n",
      "Once upon a time, a naughty bear lived in a tree. He liked to eat yummy food, just like everyone else. One day, he had an idea. He suggested to the other animals that they should have a picnic. Everyone said it was a great idea, so they set off to find some food.\n",
      "\n",
      "The bear found a big melon that he wanted to share out between them all. The other animals thought this was a great idea too.\n",
      "\n",
      "But then, the naughty bear decided it was too big to carry. So he suggested they all eat it right away. All the animals laughed and started to eat the yummy melon. They enjoyed every bite. \n",
      "\n",
      "The bear was so happy that he suggested they do it again the next day!\n",
      "860\n",
      "Once there was an energetic girl called Amy. She was restless and always wanted to move. One day Amy's mom took her to the park. She made Amy do different exercises like running, jumping and hopping. Amy was excited about it and enjoyed every moment of it.\n",
      "\n",
      "After a few hours, Amy got tired and wanted to take a break. Mom asked her to sit down and to take a rest. Amy was patient for a few minutes and then she got restless again. She wanted to play more and wanted to run fast. Mom knew why Amy was so eager and she suggested they play a new game, she called it Strike.\n",
      "\n",
      "In this game, Amy was supposed to run and throw a ball up in the air and then quickly come back and catch it. Amy had great fun and found it a bit challenging. After a few rounds of Strike, Amy was exhausted and glad to be done with the exercise.\n",
      "5390\n",
      "Once upon a time there was a brave courageous dragon who wanted to explore the world and discover new places. So one day, she decided to take a long journey. She carried a bag of supplies and flew far, far away.\n",
      "\n",
      "On her adventure the dragon saw a small country she had never seen before. She was excited but also a bit scared. The country seemed so lonely! Just then, she heard someone talking.\n",
      "\n",
      "\"What are you doing here all alone?,\" said the voice. Startled, the dragon looked up and saw a young boy by her side. She answered, \"I came here to explore and travel\".\n",
      "\n",
      "The boy smiled and said, \"That sounds like fun! But don't you know that this country is not safe. A big mean dragon lives here and he will try and block your way\".\n",
      "\n",
      "The dragon was worried but also determined. She said, \"Thank you for the warning, but I am not scared. I'm sure I can take care of myself\". The dragon carried on with her journey and was eventually able to reach her destination safely.\n",
      "21575\n",
      "Lily and Tom are friends. They like to play together. One day, they find a big box in the garage. The box has many things inside. Lily and Tom want to see what they are.\n",
      "\n",
      "They open the box and take out some tools. There is a hammer, a saw, a screwdriver and some nails. Lily and Tom think they can make something with the tools. They look for some wood and cardboard.\n",
      "\n",
      "\"Let's make a house!\" Lily says. \"We can use the hammer and the nails to join the wood and the cardboard.\"\n",
      "\n",
      "\"OK!\" Tom says. \"I will use the saw to cut the wood and the cardboard. You can use the hammer and the nails to fix them.\"\n",
      "\n",
      "They work hard and have fun. They make a small house with a door and a window. They are very proud of their house.\n",
      "\n",
      "They go inside the house and pretend to live there. They have some toys and books and blankets. They are happy and cozy.\n",
      "\n",
      "But outside, it is very cold. The wind blows and the snow falls. Lily and Tom hear the wind and the snow. They shiver.\n",
      "\n",
      "\"Brrr, it is cold!\" Lily says. \"I wish we had a fire.\"\n",
      "\n",
      "\"Me too!\" Tom says. \"But we don't have any matches or wood.\"\n",
      "\n",
      "They hug each other and wrap themselves with the blankets. They wish they had a real house with a fire and a heater.\n",
      "\n",
      "They hear a voice. It is Lily's mom. She calls them from the garage.\n",
      "\n",
      "\"Lily! Tom! Come inside! It is too cold to play outside! You will catch a cold!\"\n",
      "\n",
      "Lily and Tom are glad to hear Lily's mom. They leave their house and run to the garage. They put the tools back in the box. They follow Lily's mom to the house.\n",
      "\n",
      "Inside, it is warm and nice. Lily's mom gives them some hot chocolate and cookies. They sit on the couch and tell Lily's mom about their house.\n",
      "\n",
      "Lily's mom smiles and hugs them. She says they are very clever and creative. She says they can play with their house again when it is not so cold.\n",
      "\n",
      "Lily and Tom are happy. They drink their hot chocolate and eat their cookies. They thank Lily's mom. They say they love their house, but they love their home more.\n",
      "11964\n",
      "Once upon a time, there was a shy little girl named Lily. She loved to play with her toys, but she was too scared to talk to other kids or grown-ups. One day, Lily saw a cop in her neighborhood. She was scared, but the cop smiled and waved at her. Lily felt a little bit better.\n",
      "\n",
      "Later that day, Lily's mom asked her to complete a puzzle. Lily loved puzzles, so she got to work right away. She put all the pieces together and felt proud of herself. When she was finished, she showed her mom the completed puzzle. Her mom smiled and gave her a big hug. Lily felt happy and brave, just like the cop she saw earlier.\n",
      "11284\n",
      "One day, June and her mommy were shopping at the store. June loved shops and often played with the scooters in the store. As she did so, a big man in a dark suit approached June and her mommy. He said to them: \"Would you like to join me for dinner tonight? I can offer you a free scooter as a present.\" June and her mommy were surprised. They looked at each other and smiled. June was so excited!\n",
      "\n",
      "Later that night, June's mommy and the big man in a dark suit went out for dinner. June stayed home, but she did get to keep the scooter. She ran around the house, scooting in happiness. \n",
      "\n",
      "When they came back, the big man said to June: \"You are a very brave girl. I wanted to offer you something special and I think this scooter is perfect!\" June was so happy and thanked the man. \n",
      "\n",
      "From then onward, the scooter was June's favourite toy. She enjoyed riding it around the house and in the park with her friends. June was so happy the big man in a dark suit had offered her the scooter!\n",
      "6265\n",
      "Ben and Lily were twins who liked to play in the backyard. They had a big sandbox, a swing, and a slide. They also had a dog named Spot who liked to run and jump with them.\n",
      "\n",
      "One day, Mom told them she had to do some laundry and left a basket of dirty clothes on the porch. She said they could play outside, but they had to stay away from the laundry. She said Spot could play with them, but he had to be good and not make a mess.\n",
      "\n",
      "Ben and Lily nodded and ran to the sandbox. They made a castle with their shovels and buckets. They put a flag on top and pretended it was their kingdom. Spot watched them and wagged his tail.\n",
      "\n",
      "But soon, Spot got bored. He noticed the laundry basket on the porch. He smelled something interesting. He decided to go and check it out. He jumped on the basket and pulled out a sock. He liked the sock. He shook it and tossed it in the air. He pulled out another sock and did the same. He pulled out more clothes and made a big pile on the floor. He rolled and chewed on them. He was having fun.\n",
      "\n",
      "Ben and Lily did not notice what Spot was doing. They were busy playing on the swing and the slide. They laughed and shouted. They did not hear Mom coming back.\n",
      "\n",
      "Mom saw the laundry basket on the porch. She saw the clothes on the floor. She saw Spot on the clothes. She was very upset. She yelled at Spot and scolded him. She picked up the clothes and put them back in the basket. She told Ben and Lily to come inside. She said they had to help her wash the clothes again. She said they had to watch Spot better. She said they could not play outside until the laundry was done.\n",
      "\n",
      "Ben and Lily were very sorry. They did not mean to let Spot make a mess. They loved Spot, but they knew he was naughty. They helped Mom with the laundry. They hugged Spot and told him to be good. They hoped they could play outside again soon.\n",
      "16850\n",
      "Once upon a time, there was a happy little puppy named Max. Max loved to play and run around in the park with his owner. One day, Max saw a big ball and he wanted to play with it, but it was too heavy for him to lift. Max was sad.\n",
      "\n",
      "Suddenly, a big dog came and took Max's ball. Max tried to get it back, but the big dog was too strong. Max's owner came to help, but the big dog was too powerful. Max and his owner went home without the ball, feeling very sad.\n",
      "\n",
      "From that day on, Max was always afraid to go to the park. He was scared that the big dog would come and take his toys again. Max's owner tried to make him happy, but Max was still scared. Max never played in the park again. The end.\n",
      "4426\n",
      "Once there was a little girl named Sarah. She was very excited because she was going to the park with her mom. When they arrived, Sarah saw a big surprise - a big hill! She couldn't believe it.\n",
      "\n",
      "Sarah ran up the hill as fast as she could. She stopped when she reached the top. From there, she could see everything - the trees, the blue sky and all the birds flying around.\n",
      "\n",
      "Sarah was so excited that she ran down the hill again and again. She liked the feeling of the wind in her hair as she went. Then, something else caught her eye - a little hill.\n",
      "\n",
      "She walked over to it and started to climb. It was much smaller than the big hill, but it was just as much fun. After a few more runs up and down the little hill, it was time to go home.\n",
      "\n",
      "Sarah was so happy and surprised that she'd found the little hill. She hugged her mom tight and said goodbye to the park. As they walked home, Sarah couldn't wait to come back and play on the hills again.\n",
      "21962\n",
      "Once upon a time, there was a little girl named Lily. She was so kind and playful. One day, Lily was playing in her garden with her best friend, Lucy. They were skipping and laughing, when suddenly Lucy stepped on a bug. She got so scared, she ran away!\n",
      "\n",
      "Lily was very sad and worried that she had lost her friend. But then Lucy came back. She had made a promise not to be scared and be brave for Lily.\n",
      "\n",
      "Lily was so happy to have her friend back. She smiled and asked Lucy to play again. They went over to the swing and had so much fun that day. Everything felt so harmless. Lily was so glad Lucy kept her promise.\n"
     ]
    }
   ],
   "source": [
    "for i in indices:\n",
    "    print(i)\n",
    "    print(dataset[\"validation\"][int(i)][\"text\"])"
   ]
  },
  {
   "cell_type": "code",
   "execution_count": 55,
   "metadata": {},
   "outputs": [],
   "source": [
    "from transformers import AutoModelForCausalLM, AutoTokenizer, GenerationConfig\n",
    "\n",
    "simple_165_model_path = \"../chkpts/SlimPajama_Jan22/filtered/hidden_1024_num_layer_8_int_4096/final_model\"\n",
    "simple_tokenizer_path = \"../tokenizer/SlimPajama/Jan22_15000\"\n",
    "simple_165_model = AutoModelForCausalLM.from_pretrained(simple_165_model_path)\n",
    "simple_tokenizer = AutoTokenizer.from_pretrained(simple_tokenizer_path)"
   ]
  },
  {
   "cell_type": "code",
   "execution_count": 69,
   "metadata": {},
   "outputs": [],
   "source": [
    "# tokenizer = AutoTokenizer.from_pretrained(\"EleutherAI/pythia-160m\")\n",
    "# model = AutoModelForCausalLM.from_pretrained(\"EleutherAI/pythia-160m\")\n",
    "# tokenizer = AutoTokenizer.from_pretrained(\"EleutherAI/pythia-410m\")\n",
    "# model = AutoModelForCausalLM.from_pretrained(\"EleutherAI/pythia-410m\")\n",
    "tokenizer = AutoTokenizer.from_pretrained(\"EleutherAI/pythia-1b\")\n",
    "model = AutoModelForCausalLM.from_pretrained(\"EleutherAI/pythia-1b\")"
   ]
  },
  {
   "cell_type": "code",
   "execution_count": 70,
   "metadata": {},
   "outputs": [],
   "source": [
    "import transformers\n",
    "def prompt_and_completion(indices, ds, model, tokenizer, seed=42):\n",
    "    transformers.set_seed(seed)\n",
    "    prompts = []\n",
    "    prompt_outputs = []\n",
    "\n",
    "    for i in indices:\n",
    "        prompt = dataset[\"validation\"][int(i)][\"text\"]\n",
    "        input_ids = tokenizer.encode(prompt, return_tensors=\"pt\")\n",
    "        #Generate completion\n",
    "        output = model.generate(input_ids, max_new_tokens = 50, do_sample=True, top_p=0.9, pad_token_id=tokenizer.eos_token_id)\n",
    "        # output = model.generate(input_ids, max_new_tokens = 2, pad_token_id=tokenizer.eos_token_id, num_beams  = 5, repetition_penalty=2.0)\n",
    "        new_text = output[0][input_ids[0].shape[0]:]\n",
    "        generated_text = tokenizer.decode(new_text, skip_special_tokens=True)\n",
    "        prompts.append(prompt)\n",
    "        prompt_outputs.append(generated_text)\n",
    "\n",
    "    return prompts, prompt_outputs"
   ]
  },
  {
   "cell_type": "code",
   "execution_count": 71,
   "metadata": {},
   "outputs": [],
   "source": [
    "# prompts, prompt_outputs = prompt_and_completion(indices, dataset, simple_165_model, simple_tokenizer)\n",
    "prompts, prompt_outputs = prompt_and_completion(indices, dataset, model, tokenizer)"
   ]
  },
  {
   "cell_type": "code",
   "execution_count": 72,
   "metadata": {},
   "outputs": [
    {
     "data": {
      "text/plain": [
       "['\\n\\nSo, the next time, they set off.\\n\\nThe next time, the naughty bear decided that he had to eat the melon himself. So, he tried to squeeze it into his mouth. But, the others all laughed',\n",
       " ' Amy thought that it was too challenging for Amy and she wanted to rest for a few more minutes. Mom reminded Amy that the exercise could be done at any time. Amy was happy and agreed to let Mom take her home.\\n\\nOn the way',\n",
       " \" The boy had promised the dragon that she would help her on her journey but the dragon was worried that she might end up in the hands of the dragon's mother. So, she made her intentions clear.\\n\\nThe dragon was happy to return home\",\n",
       " '\\n\\nThe next day, Tom and Lily show their new house to their friends. They tell them about their new house and show it to some of their friends. They hope they will like it.\\n\\nTom says he can see his future home',\n",
       " \" That night, she told her mom about the police officer who had saved her life.\\n\\nWhen the police officer had finished, Lily took a breath. She felt so sad. She wanted to take her mom's hand. Lily didn't know what\",\n",
       " \" \\n\\nA week later June had become pregnant with her first child. She gave birth to a beautiful baby boy in June's arms.\\n\\nMay\\nJune's mommy gave birth to her second child, a girl named May. June gave birth\",\n",
       " '\\n\\nThat night, Spot played on the sandbox for a long time. He was good. His playfulness made Mom and Ben sad. She tried to tell them to leave, but they stayed inside. Mom said that if Spot had done something',\n",
       " \"\\n\\nThe same thing happened to me. I was at a baseball field for my first game. I came back home and met my family for the first time since I'd left. It felt good to say goodbye to my friends, because I was\",\n",
       " '\\n\\nSo, she did.\\n\\n- by: Dan\\n\\nThis story was written by: Dan\\n\\nTo read more or comment, visit: http://www.drjoneshow.com\\n\\nFollow\\n\\nJoin our newsletter',\n",
       " '\\n\\nWhen Lucy got to school on the next day, she saw a new teacher. She called her new teacher and started to speak to her about the new teacher. She looked very serious and said, “Teacher, I have to ask you']"
      ]
     },
     "execution_count": 72,
     "metadata": {},
     "output_type": "execute_result"
    }
   ],
   "source": [
    "prompt_outputs"
   ]
  },
  {
   "cell_type": "code",
   "execution_count": 73,
   "metadata": {},
   "outputs": [],
   "source": [
    "import pandas as pd"
   ]
  },
  {
   "cell_type": "code",
   "execution_count": 74,
   "metadata": {},
   "outputs": [],
   "source": [
    "df = pd.DataFrame({\"prompt\": prompts, \"output\": prompt_outputs})"
   ]
  },
  {
   "cell_type": "code",
   "execution_count": null,
   "metadata": {},
   "outputs": [],
   "source": [
    "csv_string = df.to_csv(sep='\\t', index=False, header=False)\n",
    "print(csv_string)"
   ]
  },
  {
   "cell_type": "markdown",
   "metadata": {},
   "source": [
    "## ROC"
   ]
  },
  {
   "cell_type": "code",
   "execution_count": null,
   "metadata": {},
   "outputs": [],
   "source": [
    "from datasets import load_dataset\n",
    "\n",
    "dataset = load_dataset(\"wza/roc_stories\")"
   ]
  },
  {
   "cell_type": "code",
   "execution_count": 2,
   "metadata": {},
   "outputs": [
    {
     "data": {
      "text/plain": [
       "DatasetDict({\n",
       "    train: Dataset({\n",
       "        features: ['storyid', 'storytitle', 'sentence1', 'sentence2', 'sentence3', 'sentence4', 'sentence5'],\n",
       "        num_rows: 98161\n",
       "    })\n",
       "})"
      ]
     },
     "execution_count": 2,
     "metadata": {},
     "output_type": "execute_result"
    }
   ],
   "source": [
    "dataset"
   ]
  },
  {
   "cell_type": "code",
   "execution_count": 3,
   "metadata": {},
   "outputs": [
    {
     "name": "stdout",
     "output_type": "stream",
     "text": [
      "Dataset({\n",
      "    features: ['storyid', 'storytitle', 'sentence1', 'sentence2', 'sentence3', 'sentence4', 'sentence5'],\n",
      "    num_rows: 100\n",
      "})\n",
      "[83 53 70 45 44 39 22 80 10  0 18 30 73 33 90  4 76 77 12 31]\n"
     ]
    }
   ],
   "source": [
    "import numpy as np\n",
    "seed = 42\n",
    "np.random.seed(seed)\n",
    "sample_size = 100\n",
    "smaller_dataset = dataset[\"train\"].select(range(sample_size))\n",
    "print(smaller_dataset)\n",
    "indices = np.random.choice(len(smaller_dataset), size=20, replace=False)\n",
    "print(indices)"
   ]
  },
  {
   "cell_type": "code",
   "execution_count": 6,
   "metadata": {},
   "outputs": [],
   "source": [
    "import pandas as pd\n",
    "ao_childes_vocab = pd.read_csv('../data/AOChildes/AOChildes_word_frequency.csv')\n",
    "vocab_words = set(ao_childes_vocab['word'])"
   ]
  },
  {
   "cell_type": "code",
   "execution_count": 37,
   "metadata": {},
   "outputs": [],
   "source": [
    "def check_if_word_in_vocab(examples, vocab_words):\n",
    "    # examples = examples[\"sentence1\"] + \" \" + examples[\"sentence2\"] + \" \" + examples[\"sentence3\"] + \" \" + examples[\"sentence4\"] + \" \" + examples[\"sentence5\"]\n",
    "    words = re.findall(r'\\w+', examples)\n",
    "    # words = examples[\"text\"].split(\" \")\n",
    "    punctuation = ['.', ',', '!', '?', ':', ';', '..', '\\n']\n",
    "    out_of_vocab_words = []\n",
    "    for word in words:\n",
    "        if word.lower() not in vocab_words:\n",
    "            out_of_vocab_words.append(word)\n",
    "    # examples[\"out_of_vocab_words\"] = out_of_vocab_words\n",
    "    return out_of_vocab_words"
   ]
  },
  {
   "cell_type": "code",
   "execution_count": 35,
   "metadata": {},
   "outputs": [
    {
     "name": "stdout",
     "output_type": "stream",
     "text": [
      "{'storyid': '9a51198e-96f1-42c3-b09d-a3e1e067d803', 'storytitle': 'Overweight Kid', 'sentence1': \"Dan's parents were overweight.\", 'sentence2': 'Dan was overweight as well.', 'sentence3': 'The doctors told his parents it was unhealthy.', 'sentence4': 'His parents understood and decided to make a change.', 'sentence5': 'They got themselves and Dan on a diet.'}\n"
     ]
    }
   ],
   "source": [
    "for id in range(100):\n",
    "    print(smaller_dataset[id])\n",
    "    break"
   ]
  },
  {
   "cell_type": "code",
   "execution_count": 38,
   "metadata": {},
   "outputs": [
    {
     "name": "stdout",
     "output_type": "stream",
     "text": [
      "['unhealthy']\n",
      "['Carrie', 'didn', 'Carrie', 'Carrie', 'gash']\n",
      "['boyfriend', 'boyfriend', 'boyfriend', 'didn']\n",
      "['barged', 'began', 'didn', 'coworker', 'intervened']\n",
      "['text', 'hang']\n",
      "['girlfriend']\n",
      "['Dave', 'Bahamas', 'snorkeling', 'snorkeling', 'Dave', 'Dave']\n",
      "[]\n",
      "['widowed', 'mom', 'didn', 'mom', 'mom', 'mom']\n",
      "['10', 'feet']\n",
      "['Joshua']\n",
      "['Hal', 'Hal', 'strained', 'Hal']\n",
      "['Brenda', 'boyfriend', 'Brenda', 'Brenda']\n",
      "['Yanice', 'fridge']\n",
      "['Beethoven']\n",
      "['2nd']\n",
      "['mowers', 'blew', 'winnings', 'revoked', 'dui']\n",
      "['miserably', 'homeless', 'alleyway', 'homeless']\n",
      "['Saturday']\n",
      "['reclined']\n",
      "['Jessica']\n",
      "['didn']\n",
      "['competed', 'medal']\n",
      "['Youtube', 'mom', 'mom', 'Youtube']\n",
      "[]\n",
      "['wasn', 'feet']\n",
      "['couldn']\n",
      "['Todd', 'Todd', 'Todd']\n",
      "['Virgil', 'recliner', 'online', 'clashed', 'decor', 'Virgil', 'reupholstered', 'clashed', 'Virgil', 'recliner']\n",
      "[]\n",
      "['Joan', 'confessional', 'kneeled', 'confessing', 'parish', 'Joan', 'confessed', 'fantasized', 'Joan', 'confessional', 'parish']\n",
      "['became']\n",
      "[]\n",
      "['Sadie']\n",
      "['Gina', 'began', 'Gina', 'Gina']\n",
      "[]\n",
      "['overdrafted']\n",
      "['couldn', 'posted', 'online', '10000', 'views']\n",
      "['Ty', 'implanted', 'heard', 'became']\n",
      "['heard', 'steward', 'steward']\n",
      "['John', 'John']\n",
      "['Susan', 'Susan']\n",
      "['dating', 'Lutheran', 'mom']\n",
      "['Jen', 'Jen', 'Jen', 'Jen']\n",
      "['woodworker', 'began']\n",
      "[]\n",
      "['Timmy', '16th']\n",
      "['spa', 'massages', 'facials', 'sauna']\n",
      "['Greg', 'auditions', 'tryouts', 'wasn', 'didn']\n",
      "['Lisa', 'sapphire', 'Lisa', 'elated']\n",
      "[]\n",
      "['didn', 'didn', 'didn']\n",
      "['Gary', 'fridge', 'Gary', 'exterminator', 'Gary', 'exterminator', 'Gary']\n",
      "['Natalie', 'auditioned', 'rehearsed']\n",
      "['Mr', 'eruption', 'diagram', 'tinfoil']\n",
      "['Samantha', 'Samantha', 'blew', 'Samantha']\n",
      "[]\n",
      "['nostalgic']\n",
      "['anticipated']\n",
      "['Jill']\n",
      "['gig', 'coffeeshop', '2', '50']\n",
      "['300', '100']\n",
      "['Frankie', 'paid']\n",
      "['didn', 'became', 'proud']\n",
      "['California', '18']\n",
      "['Mia', 'rival', 'began', 'chanting', 'Mia']\n",
      "['Shannon']\n",
      "['Nate', 'couldn', 'Diana', 'nate', 'didn']\n",
      "['divorce', 'socialize', 'demurred']\n",
      "['Bogart', 'fond', 'Bogart']\n",
      "['preschoolers']\n",
      "['Gina', 'obnoxious', 'began', 'Gina', 'wasn']\n",
      "['Olivia', 'internationally', 'audition']\n",
      "['Tim', 'Tim', 'warranty']\n",
      "['April', 'Fools', 'pranks', 'couldn']\n",
      "['didn', 'didn']\n",
      "[]\n",
      "[]\n",
      "['Erica', 'mom', 'wasn']\n",
      "['sternly']\n",
      "['Sarah', 'couldn']\n",
      "['craigslist']\n",
      "['Susie', '31']\n",
      "['pasta', 'pasta']\n",
      "['women', 'topics', 'disagreed', 'polarized', 'Rosie', 'Elizabeth', 'producers', 'splitscreen']\n",
      "['Elliott', 'Tim', '1', 'ranking', 'Elliott', 'Tim']\n",
      "[]\n",
      "['Louisa', 'Epcot', 'couldn']\n",
      "['Joanie', 'mom', 'Joanie', 'prayed']\n",
      "['hasn']\n",
      "['John', 'John', 'John']\n",
      "['Tyrese', 'allows', 'Tyrese', 'motivation']\n",
      "['Ryder', 'Ryder', 'Ryder']\n",
      "['became', 'Chicago']\n",
      "['didn', 'paid']\n",
      "['Taylor', 'began', 'affinity', 'Taylor', 'forming']\n",
      "['condo', '2013', 'condo', '1987']\n",
      "['mom']\n",
      "['Trevor', 'heard', 'Trevor']\n",
      "['stylist', 'stylist', 'stylist']\n"
     ]
    }
   ],
   "source": [
    "import re\n",
    "for i in range(100):\n",
    "    sent = smaller_dataset[i][\"sentence1\"] + \" \" + smaller_dataset[i][\"sentence2\"] + \" \" + smaller_dataset[i][\"sentence3\"] + \" \" + smaller_dataset[i][\"sentence4\"] + \" \" + smaller_dataset[i][\"sentence5\"]\n",
    "    oov_words = check_if_word_in_vocab(sent, vocab_words)\n",
    "    print(oov_words)"
   ]
  },
  {
   "cell_type": "code",
   "execution_count": 4,
   "metadata": {},
   "outputs": [],
   "source": [
    "simple_indices = [3, 6, 7, 8, 10, 11, 13, 15, 16, 22, 25, 26, 27, 28, 30, 33, 34, 36, 41, 42, 44, 46, 47, 51, 52, 57, 60, 62, 76, 77, 78, 87]"
   ]
  },
  {
   "cell_type": "code",
   "execution_count": 5,
   "metadata": {},
   "outputs": [
    {
     "name": "stdout",
     "output_type": "stream",
     "text": [
      "{'storyid': '79b0da1f-e460-4173-ba58-8c9e2553c53a', 'storytitle': 'Beach', 'sentence1': 'Morgan enjoyed long walks on the beach.', 'sentence2': 'She and her boyfriend decided to go for a long walk.', 'sentence3': 'After walking for over a mile, something happened.', 'sentence4': 'Morgan decided to propose to her boyfriend.', 'sentence5': \"Her boyfriend was upset he didn't propose to her first.\"}\n",
      "{'storyid': '5d5e7aeb-332f-4c8b-a3c3-44585501e493', 'storytitle': 'Foolish Frank', 'sentence1': 'Frank had been drinking beer.', 'sentence2': 'He got a call from his girlfriend, asking where he was.', 'sentence3': 'Frank suddenly realized he had a date that night.', 'sentence4': 'Since Frank was already a bit drunk, he could not drive.', 'sentence5': 'Frank spent the rest of the night drinking more beers.'}\n",
      "{'storyid': 'bdceebb0-c6e8-417f-b6ae-741a0a71fcd3', 'storytitle': 'Shark Adventure', 'sentence1': 'Dave was in the Bahamas on vacation.', 'sentence2': 'He decided to go snorkeling on his second day.', 'sentence3': 'While snorkeling, he saw a cave up ahead.', 'sentence4': 'He went into the cave, and he was terrified when he found a shark!', 'sentence5': 'Dave swam away as fast as he could, but the shark caught and ate Dave.'}\n",
      "{'storyid': 'a4a9aaca-d3d4-46b4-807c-ef75aea68c56', 'storytitle': 'Too sunny for Sunny', 'sentence1': 'Sunny enjoyed going to the beach.', 'sentence2': 'As she stepped out of her car, she realized she forgot something.', 'sentence3': 'It was quite sunny and she forgot her sunglasses.', 'sentence4': 'Sunny got back into her car and heading towards the mall.', 'sentence5': 'Sunny found some sunglasses and headed back to the beach.'}\n",
      "{'storyid': '80ff5d8f-bcb1-437b-9da1-71c52997def2', 'storytitle': 'Golf Cheat', 'sentence1': 'Dan hit his golf ball and watched it go.', 'sentence2': 'The ball bounced on the grass and into the sand trap.', 'sentence3': 'Dan pretended that his ball actually landed on the green.', 'sentence4': 'His friends were not paying attention so they believed him.', 'sentence5': 'Dan snuck a ball on the green and made his putt from 10 feet.'}\n",
      "{'storyid': 'f205679f-a512-4c69-8c70-4c5d081bc162', 'storytitle': \"Josh's Bird\", 'sentence1': 'Josh had a parrot that talked.', 'sentence2': 'He brought his parrot to school.', 'sentence3': \"During show and tell, Josh's parrot said a bad word.\", 'sentence4': 'The teacher told Joshua not to bring his bird again.', 'sentence5': 'When Josh got home, he was grounded.'}\n",
      "{'storyid': '2ba826c3-4b57-42fa-9784-8fc5c8f954ac', 'storytitle': 'She Is The Saddest Girl', 'sentence1': 'Brenda was in love with her boyfriend Maxwell.', 'sentence2': 'He was a successful artist with a promising future.', 'sentence3': 'Maxwell told Brenda he needed to talk to her.', 'sentence4': \"She thought he'd propose but he wanted to break up.\", 'sentence5': 'Brenda walked away and now she is the saddest girl out of everyone.'}\n",
      "{'storyid': 'e95f0861-813b-4801-b2a5-74733aef86db', 'storytitle': 'Company', 'sentence1': 'I saw my friend Joe sitting in lobby today.', 'sentence2': 'I kept him company, as he is a lonely old man.', 'sentence3': \"He told me he had just listened to Beethoven's Ninth.\", 'sentence4': 'I talked to him for an hour.', 'sentence5': 'I left him in the lobby and told him I would see him soon.'}\n",
      "{'storyid': 'a15c9a13-e251-4461-b74d-e6549c6633a7', 'storytitle': 'Chat', 'sentence1': 'Twas the night after the first day of junior high.', 'sentence2': 'Amy and her friend Beth were on the phone.', 'sentence3': 'They had a lot to catch up on.', 'sentence4': 'Amy listened patiently as Beth told her about her day.', 'sentence5': 'She wanted to go 2nd because she knew hers was the better day.'}\n",
      "{'storyid': '3097473f-8b80-4521-b8aa-d13f6f4049f3', 'storytitle': 'Pet', 'sentence1': 'Dan wanted a pet for Christmas.', 'sentence2': 'He told his dad.', 'sentence3': \"His dad listened, but didn't say anything.\", 'sentence4': 'So on Christmas morning, And got a wonderful surprise.', 'sentence5': \"He received a puppy with a shiny bow on it's head!\"}\n",
      "{'storyid': 'daed2b60-8579-4de5-b608-c8bdd1529692', 'storytitle': 'Jeff moving', 'sentence1': 'Jeff wanted to move out of his house.', 'sentence2': 'He had no money to pay for a new one.', 'sentence3': 'One day he bought a scratching ticket.', 'sentence4': 'He won enough money for a down payment.', 'sentence5': 'Jeff ended up moving to a new house.'}\n",
      "{'storyid': '3e53cf10-5e80-41d2-b7bb-fc910480a1be', 'storytitle': 'Broken ankle', 'sentence1': 'I was walking to school.', 'sentence2': \"Since I wasn't looking at my feet, I stepped on a rock.\", 'sentence3': 'I landed on the ground in pain.', 'sentence4': 'Thankfully, a stranger rushed to pick me up.', 'sentence5': 'He took me to the hospital to seek treatment.'}\n",
      "{'storyid': '635470f4-c8bc-4ff9-b5db-be1875e40ac0', 'storytitle': 'Absentminded', 'sentence1': 'Lily drove into town for some errands.', 'sentence2': 'While she was there, she bought a large iced coffee to go.', 'sentence3': \"It was delicious and refreshing and she couldn't wait to finish it.\", 'sentence4': 'She put it on her car roof while fishing for her keys.', 'sentence5': 'She drove home and the coffee fell off and spilled.'}\n",
      "{'storyid': 'b2fb47c8-8120-4657-9d51-5b83c45cf9ef', 'storytitle': 'Todd makes Hamburgers', 'sentence1': 'Todd was hungry.', 'sentence2': 'He did not have anything to cook at his house.', 'sentence3': 'He decided he need to go buy something to cook.', 'sentence4': 'On the way to the store Todd decided to make hamburgers.', 'sentence5': 'Todd buys everything he needed and goes home and cooks.'}\n",
      "{'storyid': '2c36af0c-1197-4b96-9cfe-d099549a655c', 'storytitle': 'Swim Safely', 'sentence1': 'Jenna was at the community pool with her family.', 'sentence2': 'She thought she could go out to the deeper end by herself.', 'sentence3': 'Without telling anyone, she swam out farther, and lost her footing.', 'sentence4': 'The lifeguard had to help her out of the water.', 'sentence5': 'Jenna had learned her lesson.'}\n",
      "{'storyid': '8cdcdaad-f7e8-404f-87aa-82ae1160bed5', 'storytitle': 'Chip, Chip, and Dip', 'sentence1': 'Chip loved dip.', 'sentence2': 'At one party, he put his chip into the dip and double dipped.', 'sentence3': 'Skip saw Chip double dip.', 'sentence4': 'Skip had to flip at seeing the double dip.', 'sentence5': 'Chip then had to punch Skip on the lip.'}\n",
      "{'storyid': 'd926bd09-49e7-4bc4-bb8f-9a04b483f1db', 'storytitle': 'Dance', 'sentence1': 'Anna wanted to invite her crush Peter to the Sadie Hawkins dance.', 'sentence2': 'But Peter was very cute and popular.', 'sentence3': 'Anna feared her was far out of her league.', 'sentence4': 'She summoned her courage and asked him, expecting a rejection.', 'sentence5': 'But to her joy, Peter happily agreed to be her date!'}\n",
      "{'storyid': 'ebcc5924-2b01-470e-b54b-3f8fef4f0e06', 'storytitle': 'Burnt Toast', 'sentence1': 'Jerry was making toast.', 'sentence2': 'He set it to medium.', 'sentence3': 'When the toast came out it was completely burnt.', 'sentence4': 'He tried other settings with no better results.', 'sentence5': 'Eventually Jerry bought a new toaster.'}\n",
      "{'storyid': '2d85d6ed-3d1c-47b5-baae-73a6b9d58f0a', 'storytitle': 'Morning Coffee', 'sentence1': 'John is sleepy.', 'sentence2': 'He starts a pot of coffee.', 'sentence3': 'John puts cream and sugar in his cup and thermos.', 'sentence4': 'He then adds coffee to both.', 'sentence5': 'After finishing the cup, he takes the thermos to work with him.'}\n",
      "{'storyid': 'b4d3741c-e39c-4856-8d90-1271e4db4c37', 'storytitle': 'Sunny Side Up', 'sentence1': 'Susan was excited to plan her first egg hunt in the South.', 'sentence2': 'She found it fun to hide the candy filled eggs in green grass.', 'sentence3': 'The sun was high in the sky when the egg hunt started.', 'sentence4': 'Soon, kids were opening eggs and bursting into tears.', 'sentence5': 'Susan saw that all the candy inside had melted in the sun.'}\n",
      "{'storyid': 'b66ee8f9-d2aa-48ef-9a96-0031ce02dbc9', 'storytitle': 'Biased In Laws', 'sentence1': \"Jen's in laws frustrated her to no end.\", 'sentence2': 'They all went out to have lunch.', 'sentence3': 'At lunch, the in laws made it a point to ask Jen about her weight.', 'sentence4': 'Jen told them that she had gained a few pounds in the last two weeks.', 'sentence5': 'They still worried that Jen looked too thin and offered her some cake.'}\n",
      "{'storyid': '32eb7159-5b63-4b96-a593-7a1e8a8d4586', 'storytitle': 'Trip', 'sentence1': 'I came out of my class and walked to my locker.', 'sentence2': 'I pressed my foot on a broken tile and fell on the ground.', 'sentence3': 'At first, no one was willing to help me up.', 'sentence4': 'However, one of the teachers around the area helped me get up.', 'sentence5': \"She took me to the school's nurse.\"}\n",
      "{'storyid': '718e7cee-87e2-44e9-bfb8-bcc96a9249d6', 'storytitle': 'Learning to be a Pilot', 'sentence1': 'Timmy was always obsessed with airplanes.', 'sentence2': 'His dream was to be a pilot.', 'sentence3': 'For his 16th birthday his parents surprised him with flying lessons.', 'sentence4': 'He loved every minute of it.', 'sentence5': \"He was sure that's what he wanted to do after that.\"}\n",
      "{'storyid': 'd7dfa594-cf3c-4c98-90cd-4e44193a0194', 'storytitle': 'Cold Day', 'sentence1': 'It was usually hot were Kim lived.', 'sentence2': 'But everyone was surprised when it was cold one day.', 'sentence3': 'Kim decided to drink coffee and eat oatmeal.', 'sentence4': 'So she was glad that the weather was cold.', 'sentence5': 'But the next day, it was too hot to enjoy hot food and drinks.'}\n",
      "{'storyid': 'ba85378d-65c7-4c66-92ac-9491e598afa5', 'storytitle': 'New Destination', 'sentence1': \"A bus driver wanted to save gas so he didn't come to a full stop.\", 'sentence2': 'He slowed down just enough for people to hop on the bus.', 'sentence3': 'A man jumped at the doorway but missed.', 'sentence4': \"The bus driver felt that if you fell you didn't deserve a ride.\", 'sentence5': \"He didn't stop to help the man back on the bus.\"}\n",
      "{'storyid': '00658324-66e3-4b65-8285-7d989917f646', 'storytitle': 'Secret Pig', 'sentence1': 'One day, a pig wandered onto my parents farm.', 'sentence2': 'I always wanted one for a pet, so I did my best to keep it a secret.', 'sentence3': 'I kept him in the small shed on the edge of the farm.', 'sentence4': 'I snuck him food and water and played with him everyday.', 'sentence5': 'One day, he was gone, but I hope he found his way back home.'}\n",
      "{'storyid': '95bb42a0-a3f4-462a-8264-329cb40c772d', 'storytitle': 'Bunny Slopes', 'sentence1': 'Jill was excited to ski for the first time.', 'sentence2': 'Her dad took her to the bunny slope.', 'sentence3': 'She caught on very quickly.', 'sentence4': 'After about an hour she looked sad.', 'sentence5': \"When her dad asked why she said because she thought she'd see bunnies.\"}\n",
      "{'storyid': 'c72d34a9-250e-4df9-9eac-845ca8995f5e', 'storytitle': 'The Expensive Mechanic', 'sentence1': \"Billy's car broke down on the highway.\", 'sentence2': 'He looked under the hood and realized his starter was broken.', 'sentence3': 'The nearest mechanic quoted Billy 300 dollars, which was far too much.', 'sentence4': 'He instead called a friend who came and fixed the starter for $100.', 'sentence5': 'Billy drove away happily with a functioning engine.'}\n",
      "{'storyid': 'ada527e3-0d1b-4f81-9495-fadab18470c7', 'storytitle': 'Ice Cream', 'sentence1': 'Betty had a craving for mint ice cream.', 'sentence2': \"She went to a local ice cream parlor, but they didn't have mint.\", 'sentence3': \"She went to a grocery store, but they didn't have mint either.\", 'sentence4': 'Betty ended up buying some ice, some cream, and some mint.', 'sentence5': 'Betty went home and made delicious ice cream herself.'}\n",
      "{'storyid': 'eaa0db89-92e9-49be-bd9f-16e56a57208a', 'storytitle': \"Cade isn't growing\", 'sentence1': 'Cade is short, and gets picked on at school.', 'sentence2': 'His mother tells him he will soon grow very tall like his dad.', 'sentence3': 'Within a few months Cade had grow a whole inch.', 'sentence4': 'And within one year Cade was the tallest boy in his class.', 'sentence5': 'Cade was no longer picked on for being short!'}\n",
      "{'storyid': '63e123b5-2f52-4137-9fd2-d940fd473fac', 'storytitle': 'Amber done goofed', 'sentence1': 'Amber drove home from work one night', 'sentence2': 'It was really bad weather outside', 'sentence3': 'She went down a dark road that was covered in water', 'sentence4': 'she could not tell how deep the water was and drove into a flood', 'sentence5': 'she messed up her car bad, and it had to be towed'}\n",
      "{'storyid': '0eb87917-26e6-45bc-94af-7f1251754cb7', 'storytitle': 'The Baby', 'sentence1': 'Today I saw a woman with a baby.', 'sentence2': 'She was helping the baby eat lunch.', 'sentence3': 'I was thinking about what it would be like to be feeding a baby.', 'sentence4': 'I decided that I wanted a baby someday.', 'sentence5': 'I decided to find a wife so I could start a family.'}\n"
     ]
    }
   ],
   "source": [
    "for i in simple_indices:\n",
    "    # i-1 to offset the index\n",
    "    print(smaller_dataset[int(i-1)])"
   ]
  },
  {
   "cell_type": "code",
   "execution_count": 7,
   "metadata": {},
   "outputs": [],
   "source": [
    "small_dataest_indices = [i-1 for i in simple_indices]"
   ]
  },
  {
   "cell_type": "code",
   "execution_count": 10,
   "metadata": {},
   "outputs": [],
   "source": [
    "filtered_ds = smaller_dataset.select(small_dataest_indices[0:15])"
   ]
  },
  {
   "cell_type": "code",
   "execution_count": 13,
   "metadata": {},
   "outputs": [
    {
     "data": {
      "text/plain": [
       "15"
      ]
     },
     "execution_count": 13,
     "metadata": {},
     "output_type": "execute_result"
    }
   ],
   "source": [
    "len(filtered_ds)"
   ]
  },
  {
   "cell_type": "code",
   "execution_count": 20,
   "metadata": {},
   "outputs": [],
   "source": [
    "import transformers\n",
    "def prompt_and_completion(ds, model, tokenizer, seed=42):\n",
    "    transformers.set_seed(seed)\n",
    "    prompts = []\n",
    "    prompt_outputs = []\n",
    "\n",
    "    for i in range(len(ds)):\n",
    "        prompt = ds[int(i)][\"sentence1\"] + ds[int(i)][\"sentence2\"] + ds[int(i)][\"sentence3\"] + ds[int(i)][\"sentence4\"] + ds[int(i)][\"sentence5\"]\n",
    "        input_ids = tokenizer.encode(prompt, return_tensors=\"pt\")\n",
    "        #Generate completion\n",
    "        output = model.generate(input_ids, max_new_tokens = 50, do_sample=True, top_p=0.9, pad_token_id=tokenizer.eos_token_id)\n",
    "        # output = model.generate(input_ids, max_new_tokens = 2, pad_token_id=tokenizer.eos_token_id, num_beams  = 5, repetition_penalty=2.0)\n",
    "        new_text = output[0][input_ids[0].shape[0]:]\n",
    "        generated_text = tokenizer.decode(new_text, skip_special_tokens=True)\n",
    "        prompts.append(prompt)\n",
    "        prompt_outputs.append(generated_text)\n",
    "\n",
    "    return prompts, prompt_outputs"
   ]
  },
  {
   "cell_type": "code",
   "execution_count": 18,
   "metadata": {},
   "outputs": [],
   "source": [
    "from transformers import AutoModelForCausalLM, AutoTokenizer, GenerationConfig\n",
    "\n",
    "simple_165_model_path = \"../chkpts/SlimPajama_Jan22/filtered/hidden_1024_num_layer_8_int_4096/final_model\"\n",
    "simple_tokenizer_path = \"../tokenizer/SlimPajama/Jan22_15000\"\n",
    "simple_165_model = AutoModelForCausalLM.from_pretrained(simple_165_model_path)\n",
    "simple_tokenizer = AutoTokenizer.from_pretrained(simple_tokenizer_path)"
   ]
  },
  {
   "cell_type": "code",
   "execution_count": 21,
   "metadata": {},
   "outputs": [],
   "source": [
    "prompts, completions = prompt_and_completion(filtered_ds, simple_165_model, simple_tokenizer)"
   ]
  },
  {
   "cell_type": "code",
   "execution_count": 25,
   "metadata": {},
   "outputs": [
    {
     "name": "stdout",
     "output_type": "stream",
     "text": [
      "Morgan enjoyed long walks on the beach.She and her boyfriend decided to go for a long walk.After walking for over a mile, something happened.Morgan decided to propose to her boyfriend.Her boyfriend was upset he didn't propose to her first.\tHe was upset because he knew she was not a good person. She was upset because he'd be upset. Morgan told her he'd be mad if she did not take him on. He did not want to leave her. She said no\n",
      "Frank had been drinking beer.He got a call from his girlfriend, asking where he was.Frank suddenly realized he had a date that night.Since Frank was already a bit drunk, he could not drive.Frank spent the rest of the night drinking more beers.\tHe kept his eyes on the road and driving faster. Suddenly he realized that he was drunk. He decided to stop and try to calm himself down. He had a headache. The man took a beer and looked at Frank. He took a drink and\n",
      "Dave was in the Bahamas on vacation.He decided to go snorkeling on his second day.While snorkeling, he saw a cave up ahead.He went into the cave, and he was terrified when he found a shark!Dave swam away as fast as he could, but the shark caught and ate Dave.\tThe other cave did not see the shark, but it saw the lion. He was so close that he could hear its tail and he would not jump for cover. He grabbed Da ve's clothes and grabbed her hair. She screamed. She fell\n",
      "Sunny enjoyed going to the beach.As she stepped out of her car, she realized she forgot something.It was quite sunny and she forgot her sunglasses.Sunny got back into her car and heading towards the mall.Sunny found some sunglasses and headed back to the beach.\tShe noticed that her sunglasses were missing. She also realized that she left her sunglasses on the beach. She had already lost her sunglasses. She turned around and saw a man looking at her sunglasses. He asked how many times the man could see them,\n",
      "Dan hit his golf ball and watched it go.The ball bounced on the grass and into the sand trap.Dan pretended that his ball actually landed on the green.His friends were not paying attention so they believed him.Dan snuck a ball on the green and made his putt from 10 feet.\tThen he hit it back with one club. He said he thought he hit it twice. Dan kept trying to get his put t to where it landed, and the ball hit him, and it b ounced off the tee. He got his put t\n",
      "Josh had a parrot that talked.He brought his parrot to school.During show and tell, Josh's parrot said a bad word.The teacher told Joshua not to bring his bird again.When Josh got home, he was grounded.\t\"He went on his own. He was smart and knew his teacher. Josh has told Josh he's not good enough. He tells Josh, \"\" I'm not good enough.\"\" Josh says his teacher called him out. Josh says, \"\" I\"\n",
      "Brenda was in love with her boyfriend Maxwell.He was a successful artist with a promising future.Maxwell told Brenda he needed to talk to her.She thought he'd propose but he wanted to break up.Brenda walked away and now she is the saddest girl out of everyone.\tShe is a huge fan and is definitely a big fan of her. There is a reason why they are friends. Bre t was a really big boy. When we were talking about their relationship he seemed to have changed too. He's a good\n",
      "I saw my friend Joe sitting in lobby today.I kept him company, as he is a lonely old man.He told me he had just listened to Beethoven's Ninth.I talked to him for an hour.I left him in the lobby and told him I would see him soon.\tI went to check on him and he was just sitting there waiting. Then I got to see a few people who were with him that night. He had been going into his room after his accident. I went down to the lobby to see what was\n",
      "Twas the night after the first day of junior high.Amy and her friend Beth were on the phone.They had a lot to catch up on.Amy listened patiently as Beth told her about her day.She wanted to go 2nd because she knew hers was the better day.\t\"She decided that Beth needed her mother's help. She knew she had to stay there and see her dad's face. She asked if he'd show him her pictures, and he said, \"\" Yes.\"\" Beth was a little bit nervous\"\n",
      "Dan wanted a pet for Christmas.He told his dad.His dad listened, but didn't say anything.So on Christmas morning, And got a wonderful surprise.He received a puppy with a shiny bow on it's head!\tNow it's a new puppy. So excited, and so grateful. I hope we could all be together again. Because it's Christmas! You're all I could ever ask for! But that's because you're all I\n",
      "Jeff wanted to move out of his house.He had no money to pay for a new one.One day he bought a scratching ticket.He won enough money for a down payment.Jeff ended up moving to a new house.\tJeff left his old house and bought a new house. He spent about four years working as a cleaning lady, cleaning houses in the Bay Area. He had no idea how to make money while painting. One of the best things about the job was to\n",
      "I was walking to school.Since I wasn't looking at my feet, I stepped on a rock.I landed on the ground in pain.Thankfully, a stranger rushed to pick me up.He took me to the hospital to seek treatment.\tAfter about 15 - 20 minutes of this trying to take my life in hand, he took me into the operating room. It was a scary experience. But the best part of the journey was I found a love for my family. A true friend.\n",
      "Lily drove into town for some errands.While she was there, she bought a large iced coffee to go.It was delicious and refreshing and she couldn't wait to finish it.She put it on her car roof while fishing for her keys.She drove home and the coffee fell off and spilled.\tShe tried to put it in the water when she walked to work. She walked to the nearest restaurant where she got an umbrella and ordered some ice cream. As she walked, she saw a man walk by holding a glass of water. Her smile was\n",
      "Todd was hungry.He did not have anything to cook at his house.He decided he need to go buy something to cook.On the way to the store Todd decided to make hamburgers.Todd buys everything he needed and goes home and cooks.\tWhen he arrived, he saw his friends there cooking ham burgers for them. He was already thinking about dinner. He had decided he would make a ham burger. T odd looked at his friends and he knew that he had to do something about this.\n",
      "Jenna was at the community pool with her family.She thought she could go out to the deeper end by herself.Without telling anyone, she swam out farther, and lost her footing.The lifeguard had to help her out of the water.Jenna had learned her lesson.\tHe knew better. But the fear was too much for her. He needed to find out. It was hard enough for him to see her in this condition, not if he was going to be on her side. She was a part of him,\n",
      "\n"
     ]
    }
   ],
   "source": [
    "import  pandas as pd\n",
    "df = pd.DataFrame({\"prompt\": prompts, \"output\": completions})\n",
    "csv_string = df.to_csv(sep='\\t', index=False, header=False)\n",
    "print(csv_string)"
   ]
  },
  {
   "cell_type": "code",
   "execution_count": 28,
   "metadata": {},
   "outputs": [
    {
     "name": "stdout",
     "output_type": "stream",
     "text": [
      "Morgan enjoyed long walks on the beach.She and her boyfriend decided to go for a long walk.After walking for over a mile, something happened.Morgan decided to propose to her boyfriend.Her boyfriend was upset he didn't propose to her first.\tThe thing that made him upset was, after the long walk on the beach, they decided to take the short walk back.After walking about a mile, they started getting tired and decided to go back to the beach.After walking about a mile,\n",
      "Frank had been drinking beer.He got a call from his girlfriend, asking where he was.Frank suddenly realized he had a date that night.Since Frank was already a bit drunk, he could not drive.Frank spent the rest of the night drinking more beers.\tOn the way home, Frank ran into a friend he knew.After Frank parked his car in front of the house, he and his friend saw a car in front of the house, blocking the driveway.This caused them to lose their license plates,\n",
      "Dave was in the Bahamas on vacation.He decided to go snorkeling on his second day.While snorkeling, he saw a cave up ahead.He went into the cave, and he was terrified when he found a shark!Dave swam away as fast as he could, but the shark caught and ate Dave.\t\"He was terrified.He got out of the cave, and he was able to swim back to his friend.Dave asked the shark why it did not eat him.The shark told him, \"\"Why did you try to save me?\"\"\"\"I know\"\n",
      "Sunny enjoyed going to the beach.As she stepped out of her car, she realized she forgot something.It was quite sunny and she forgot her sunglasses.Sunny got back into her car and heading towards the mall.Sunny found some sunglasses and headed back to the beach.\t\"At one point during her walk down the beach, Sunny was in front of the beach and was able to see the beach from her car.\n",
      "\n",
      "Sunny is the one who suggested that she wear her sunglasses as a joke.\n",
      "\n",
      "S\"\n",
      "Dan hit his golf ball and watched it go.The ball bounced on the grass and into the sand trap.Dan pretended that his ball actually landed on the green.His friends were not paying attention so they believed him.Dan snuck a ball on the green and made his putt from 10 feet.\tHe missed the hole and made it look easy.Dan watched and looked over at his friends who were all watching, laughing, and congratulating themselves on not making a mistake.Dan hit the ball and was about to make his drive when he stopped,\n",
      "Josh had a parrot that talked.He brought his parrot to school.During show and tell, Josh's parrot said a bad word.The teacher told Joshua not to bring his bird again.When Josh got home, he was grounded.\t\"He said, \"\"I will not speak to a parrot until you get rid of it.\"\"\"\"Then I'll say, 'Let the parrot be.'\"\"So he took his parrot and put it in his pocket.The parrot asked, \"\"\"\n",
      "Brenda was in love with her boyfriend Maxwell.He was a successful artist with a promising future.Maxwell told Brenda he needed to talk to her.She thought he'd propose but he wanted to break up.Brenda walked away and now she is the saddest girl out of everyone.\t\"\n",
      "\n",
      "What I think of this book: A fun read for young readers. I was pleasantly surprised by this book and I highly recommend it to all my readers. I also really enjoyed the characters and story lines in this book.\n",
      "\n",
      "I\"\n",
      "I saw my friend Joe sitting in lobby today.I kept him company, as he is a lonely old man.He told me he had just listened to Beethoven's Ninth.I talked to him for an hour.I left him in the lobby and told him I would see him soon.\t\"He seemed to be enjoying himself.I did not leave him alone as he has been known to do.After his hour with me he decided to have a drink.He seemed very pleased with himself.I left him alone.\n",
      "\n",
      "I hope he\"\n",
      "Twas the night after the first day of junior high.Amy and her friend Beth were on the phone.They had a lot to catch up on.Amy listened patiently as Beth told her about her day.She wanted to go 2nd because she knew hers was the better day.\tHer friend, Beth's mother, who happened to be on the phone.Amy listened to Beth tell her about her day.She wanted to go 3rd because she knew hers was the better day.It was only two days, but she knew\n",
      "Dan wanted a pet for Christmas.He told his dad.His dad listened, but didn't say anything.So on Christmas morning, And got a wonderful surprise.He received a puppy with a shiny bow on it's head!\t\"\n",
      "\n",
      "The puppy grew to love all the people who had invited him. It would get on his head and run after them. And chase them down! It would have gotten them in a lot of trouble!\n",
      "\n",
      "One year, when the neighbors\"\n",
      "Jeff wanted to move out of his house.He had no money to pay for a new one.One day he bought a scratching ticket.He won enough money for a down payment.Jeff ended up moving to a new house.\t\"He had plenty of money to pay for a new car.\n",
      "\n",
      "As for me,I wanted to sell the car and buy a car that wasn't in a major city.I knew I had to be more careful about what I did and where\"\n",
      "I was walking to school.Since I wasn't looking at my feet, I stepped on a rock.I landed on the ground in pain.Thankfully, a stranger rushed to pick me up.He took me to the hospital to seek treatment.\t\"After a few days of treatment, the pain was gone, and I was allowed back home.I got the job that I always wanted to.\n",
      "\n",
      "I never thought it would happen, but this story is a wonderful encouragement to all of us.\"\n",
      "Lily drove into town for some errands.While she was there, she bought a large iced coffee to go.It was delicious and refreshing and she couldn't wait to finish it.She put it on her car roof while fishing for her keys.She drove home and the coffee fell off and spilled.\t\"The coffee was on the ground where it belonged.She called a plumber, who came and fixed the roof as quickly as he could.\n",
      "\n",
      "Drew drove her car back to work and got in his own car.They had to wait for\"\n",
      "Todd was hungry.He did not have anything to cook at his house.He decided he need to go buy something to cook.On the way to the store Todd decided to make hamburgers.Todd buys everything he needed and goes home and cooks.\tWhen he got back home he took all the food he needed.He eats all the food and it was too late to cook something else now he was back at the store.Todd decides to go in the store again.There he finds out that\n",
      "Jenna was at the community pool with her family.She thought she could go out to the deeper end by herself.Without telling anyone, she swam out farther, and lost her footing.The lifeguard had to help her out of the water.Jenna had learned her lesson.\t\"She knew what happened if someone saw her out alone.She knew who to talk to.\"\"I can't do this anymore, I'll never make it.\"\"\"\"No, you won't.\"\"CJ had come over to her and gave her a hand towel\"\n",
      "\n"
     ]
    }
   ],
   "source": [
    "# tokenizer = AutoTokenizer.from_pretrained(\"EleutherAI/pythia-160m\")\n",
    "# model = AutoModelForCausalLM.from_pretrained(\"EleutherAI/pythia-160m\")\n",
    "# tokenizer = AutoTokenizer.from_pretrained(\"EleutherAI/pythia-410m\")\n",
    "# model = AutoModelForCausalLM.from_pretrained(\"EleutherAI/pythia-410m\")\n",
    "tokenizer = AutoTokenizer.from_pretrained(\"EleutherAI/pythia-1b\")\n",
    "model = AutoModelForCausalLM.from_pretrained(\"EleutherAI/pythia-1b\")\n",
    "prompts, completions = prompt_and_completion(filtered_ds, model, tokenizer)\n",
    "\n",
    "import  pandas as pd\n",
    "df = pd.DataFrame({\"prompt\": prompts, \"output\": completions})\n",
    "csv_string = df.to_csv(sep='\\t', index=False, header=False)\n",
    "print(csv_string)"
   ]
  }
 ],
 "metadata": {
  "kernelspec": {
   "display_name": "slm",
   "language": "python",
   "name": "python3"
  },
  "language_info": {
   "codemirror_mode": {
    "name": "ipython",
    "version": 3
   },
   "file_extension": ".py",
   "mimetype": "text/x-python",
   "name": "python",
   "nbconvert_exporter": "python",
   "pygments_lexer": "ipython3",
   "version": "3.11.0"
  }
 },
 "nbformat": 4,
 "nbformat_minor": 2
}
