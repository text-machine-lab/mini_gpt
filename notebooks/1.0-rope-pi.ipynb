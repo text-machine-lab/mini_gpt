{
 "cells": [
  {
   "cell_type": "code",
   "execution_count": null,
   "metadata": {},
   "outputs": [],
   "source": [
    "import sys\n",
    "sys.path.append(\"..\")\n",
    "import src.model_utils as model_utils\n",
    "import torch\n",
    "from transformers import LlamaConfig\n",
    "from transformers import AutoModelForCausalLM"
   ]
  },
  {
   "cell_type": "code",
   "execution_count": null,
   "metadata": {},
   "outputs": [],
   "source": [
    "# might need to pass config arguments to the get_model function\n",
    "model_path = \"final_model\"\n",
    "vocab_size = 15_000\n",
    "\n",
    "config = AutoModelForCausalLM.from_pretrained(model_path).config\n",
    "print(config)"
   ]
  },
  {
   "cell_type": "code",
   "execution_count": null,
   "metadata": {},
   "outputs": [],
   "source": [
    "model = model_utils.get_model(\n",
    "    model_name_or_path=model_path,\n",
    "    torch_dtype=torch.bfloat16,\n",
    "    load_in_4bit=False,\n",
    "    device_map={\"\": torch.cuda.current_device()},\n",
    "    train=False,\n",
    "    _flash_attn_2_enabled=False,\n",
    "    config=config,\n",
    ")\n",
    "\n",
    "# overwrite the max seq length to what we are targetting 1024 or 4096\n",
    "model.config.max_position_embeddings = 4096"
   ]
  },
  {
   "cell_type": "code",
   "execution_count": 4,
   "metadata": {},
   "outputs": [
    {
     "name": "stderr",
     "output_type": "stream",
     "text": [
      "\u001b[32m2023-11-30 16:12:44.277\u001b[0m | \u001b[1mINFO    \u001b[0m | \u001b[36msrc.pos_emb_classes\u001b[0m:\u001b[36mpatch\u001b[0m:\u001b[36m162\u001b[0m - \u001b[1mPostion Interpolation - Rotary Position Embedding hyperparameters\u001b[0m\n",
      "\u001b[32m2023-11-30 16:12:44.278\u001b[0m | \u001b[1mINFO    \u001b[0m | \u001b[36msrc.pos_emb_classes\u001b[0m:\u001b[36mpatch\u001b[0m:\u001b[36m163\u001b[0m - \u001b[1mDimension: 128.0\u001b[0m\n",
      "\u001b[32m2023-11-30 16:12:44.278\u001b[0m | \u001b[1mINFO    \u001b[0m | \u001b[36msrc.pos_emb_classes\u001b[0m:\u001b[36mpatch\u001b[0m:\u001b[36m164\u001b[0m - \u001b[1mScale (for the position): 64\u001b[0m\n",
      "\u001b[32m2023-11-30 16:12:44.279\u001b[0m | \u001b[1mINFO    \u001b[0m | \u001b[36msrc.pos_emb_classes\u001b[0m:\u001b[36mpatch\u001b[0m:\u001b[36m165\u001b[0m - \u001b[1mScale Power: 0\u001b[0m\n",
      "\u001b[32m2023-11-30 16:12:44.279\u001b[0m | \u001b[1mINFO    \u001b[0m | \u001b[36msrc.pos_emb_classes\u001b[0m:\u001b[36mpatch\u001b[0m:\u001b[36m166\u001b[0m - \u001b[1mMax Pos Emb: 8192\u001b[0m\n"
     ]
    }
   ],
   "source": [
    "model = model_utils.patch_model_with_rope(\n",
    "    pos_emb_name=\"scaled_rope\",\n",
    "    model=model,\n",
    "    seq_len_train=128,\n",
    "    seq_len_test=8192,\n",
    "    scale_power=0,\n",
    ")"
   ]
  },
  {
   "cell_type": "code",
   "execution_count": 5,
   "metadata": {},
   "outputs": [
    {
     "data": {
      "text/plain": [
       "LlamaForCausalLM(\n",
       "  (model): LlamaModel(\n",
       "    (embed_tokens): Embedding(15000, 1024)\n",
       "    (layers): ModuleList(\n",
       "      (0-7): 8 x LlamaDecoderLayer(\n",
       "        (self_attn): LlamaAttention(\n",
       "          (q_proj): Linear(in_features=1024, out_features=1024, bias=False)\n",
       "          (k_proj): Linear(in_features=1024, out_features=1024, bias=False)\n",
       "          (v_proj): Linear(in_features=1024, out_features=1024, bias=False)\n",
       "          (o_proj): Linear(in_features=1024, out_features=1024, bias=False)\n",
       "          (rotary_emb): ScaledLlamaRotaryEmbedding()\n",
       "        )\n",
       "        (mlp): LlamaMLP(\n",
       "          (gate_proj): Linear(in_features=1024, out_features=4096, bias=False)\n",
       "          (up_proj): Linear(in_features=1024, out_features=4096, bias=False)\n",
       "          (down_proj): Linear(in_features=4096, out_features=1024, bias=False)\n",
       "          (act_fn): SiLUActivation()\n",
       "        )\n",
       "        (input_layernorm): LlamaRMSNorm()\n",
       "        (post_attention_layernorm): LlamaRMSNorm()\n",
       "      )\n",
       "    )\n",
       "    (norm): LlamaRMSNorm()\n",
       "  )\n",
       "  (lm_head): Linear(in_features=1024, out_features=15000, bias=False)\n",
       ")"
      ]
     },
     "execution_count": 5,
     "metadata": {},
     "output_type": "execute_result"
    }
   ],
   "source": [
    "model"
   ]
  },
  {
   "cell_type": "code",
   "execution_count": null,
   "metadata": {},
   "outputs": [],
   "source": [
    "import os\n",
    "model_save_path = os.path.join(model_path, \"rope_pi\")\n",
    "print(model_save_path)\n",
    "\n",
    "model.save_pretrained(model_save_path)"
   ]
  },
  {
   "cell_type": "markdown",
   "metadata": {},
   "source": [
    "## apply rope pi to all the final models"
   ]
  },
  {
   "cell_type": "code",
   "execution_count": 22,
   "metadata": {},
   "outputs": [],
   "source": [
    "def apply_rope_pi(model_path):\n",
    "    vocab_size = 15_000\n",
    "\n",
    "    config = AutoModelForCausalLM.from_pretrained(model_path).config\n",
    "\n",
    "    model = model_utils.get_model(\n",
    "        model_name_or_path=model_path,\n",
    "        torch_dtype=torch.bfloat16,\n",
    "        load_in_4bit=False,\n",
    "        device_map={\"\": torch.cuda.current_device()},\n",
    "        train=False,\n",
    "        _flash_attn_2_enabled=False,\n",
    "        config=config,\n",
    "    )\n",
    "\n",
    "    # overwrite the max seq length to what we are targetting 1024 or 8192\n",
    "    model.config.max_position_embeddings = 1024\n",
    "\n",
    "    new_model = model_utils.patch_model_with_rope(\n",
    "        pos_emb_name=\"scaled_rope\",\n",
    "        model=model,\n",
    "        seq_len_train=128,\n",
    "        seq_len_test=1024,\n",
    "        scale_power=0,\n",
    "    )\n",
    "\n",
    "    model_save_path = os.path.join(model_path, \"rope_pi\")\n",
    "    new_model.save_pretrained(model_save_path)\n",
    "    return"
   ]
  },
  {
   "cell_type": "code",
   "execution_count": 26,
   "metadata": {},
   "outputs": [],
   "source": [
    "import os\n",
    "\n",
    "base_path = \"unfiltered/\"\n",
    "hidden_size = [1024, 512, 256, 128, 64, 32]\n",
    "num_layers = [8, 4, 2]\n",
    "int_size = [4096, 2048, 1024, 512, 256, 128]\n",
    "model_paths = []\n",
    "for idx, hidden in enumerate(hidden_size):\n",
    "    for layer in num_layers:\n",
    "        model_names = f\"hidden_{hidden}_num_layer_{layer}_int_{int_size[idx]}\"\n",
    "        model_path = os.path.join(base_path, model_names, \"final_model\")\n",
    "        model_paths.append(model_path)"
   ]
  },
  {
   "cell_type": "code",
   "execution_count": null,
   "metadata": {},
   "outputs": [],
   "source": [
    "for model_path in model_paths:\n",
    "    print(model_path)\n",
    "    apply_rope_pi(model_path)"
   ]
  }
 ],
 "metadata": {
  "kernelspec": {
   "display_name": "small_models",
   "language": "python",
   "name": "python3"
  },
  "language_info": {
   "codemirror_mode": {
    "name": "ipython",
    "version": 3
   },
   "file_extension": ".py",
   "mimetype": "text/x-python",
   "name": "python",
   "nbconvert_exporter": "python",
   "pygments_lexer": "ipython3",
   "version": "3.11.5"
  }
 },
 "nbformat": 4,
 "nbformat_minor": 2
}
